{
 "cells": [
  {
   "cell_type": "markdown",
   "id": "78ae9f66",
   "metadata": {},
   "source": [
    "# PYTHON OPERATORS\n",
    "* Arithmetic\n",
    "* logical\n",
    "* Assignment\n",
    "* Identity\n",
    "* Membership"
   ]
  },
  {
   "cell_type": "code",
   "execution_count": 2,
   "id": "f42684a0",
   "metadata": {},
   "outputs": [
    {
     "name": "stdout",
     "output_type": "stream",
     "text": [
      "30\n",
      "-10\n",
      "200\n",
      "0.5\n",
      "0\n"
     ]
    }
   ],
   "source": [
    "# Arithmatic operator( +,-,/,//,%)\n",
    "a=10\n",
    "b=20\n",
    "print(a+b)\n",
    "print(a-b)\n",
    "print(a*b)\n",
    "print(a/b)\n",
    "print(a//b)  #round of value of division"
   ]
  },
  {
   "cell_type": "code",
   "execution_count": 5,
   "id": "1769c660",
   "metadata": {},
   "outputs": [
    {
     "name": "stdout",
     "output_type": "stream",
     "text": [
      "True\n",
      "False\n",
      "False\n",
      "False\n",
      "True\n",
      "True\n",
      "True\n",
      "False\n"
     ]
    },
    {
     "data": {
      "text/plain": [
       "False"
      ]
     },
     "execution_count": 5,
     "metadata": {},
     "output_type": "execute_result"
    }
   ],
   "source": [
    "# logical operators(and,or,not)\n",
    "print(True and True)\n",
    "print(True and False)\n",
    "print(False and True)\n",
    "print(False and False)\n",
    "\n",
    "\n",
    "print(True or True)\n",
    "print(True or False)\n",
    "print(False or True)\n",
    "print(False or False)\n",
    "\n",
    "x=20\n",
    "y=20\n",
    "x is not y"
   ]
  },
  {
   "cell_type": "code",
   "execution_count": 8,
   "id": "9ce65b84",
   "metadata": {},
   "outputs": [
    {
     "name": "stdout",
     "output_type": "stream",
     "text": [
      "20\n",
      "400\n",
      "350\n",
      "35.0\n",
      "0.0\n"
     ]
    }
   ],
   "source": [
    "# assignment operator(=,*=,+=,-=,/=,%=)\n",
    "\n",
    "a=10;\n",
    "a+=10;\n",
    "print(a)\n",
    "\n",
    "a*=20\n",
    "print(a)\n",
    "\n",
    "a-=50;\n",
    "print(a)\n",
    "\n",
    "a/= 10;\n",
    "print(a)\n",
    "\n",
    "a%=5;\n",
    "print(a)\n"
   ]
  },
  {
   "cell_type": "code",
   "execution_count": 9,
   "id": "92e71044",
   "metadata": {},
   "outputs": [
    {
     "data": {
      "text/plain": [
       "False"
      ]
     },
     "execution_count": 9,
     "metadata": {},
     "output_type": "execute_result"
    }
   ],
   "source": [
    "# comprison operator(<,>,<=,>=,!=,==)\n",
    "a=10\n",
    "b=20\n",
    "a>b\n",
    "a<b\n",
    "a!=b\n",
    "a>=b\n",
    "a<=b\n",
    "a==b"
   ]
  },
  {
   "cell_type": "code",
   "execution_count": 10,
   "id": "d1fead59",
   "metadata": {},
   "outputs": [
    {
     "data": {
      "text/plain": [
       "False"
      ]
     },
     "execution_count": 10,
     "metadata": {},
     "output_type": "execute_result"
    }
   ],
   "source": [
    "# identity operator\n",
    "a is b  #value in the previous cell is assigned in a and b"
   ]
  },
  {
   "cell_type": "code",
   "execution_count": 12,
   "id": "57e31ce6",
   "metadata": {},
   "outputs": [
    {
     "name": "stdout",
     "output_type": "stream",
     "text": [
      "True\n",
      "False\n"
     ]
    }
   ],
   "source": [
    "# membership operator\n",
    "a= \"usha\"\n",
    "print(\"s\" in a)\n",
    "print(\"r\" in a)"
   ]
  },
  {
   "cell_type": "markdown",
   "id": "047fe04d",
   "metadata": {},
   "source": [
    "# CONDITIONAL STATEMENTS\n",
    "### if --> checks for single case\n",
    "#### syntax:\n",
    "       if(condition):\n",
    "           //statements\n",
    "           \n",
    "### if-else ---> To check whether the given condition is true or false\n",
    "#### syntax:\n",
    "    if (condition):\n",
    "        //statements\n",
    "    else :    \n",
    "        //statements\n",
    "\n",
    "### nested-if ---> if first condition is true it checks for inner if (or) if-else part or it returns the else part\n",
    "#### syntax:\n",
    "    if(condition):\n",
    "        //statements\n",
    "        if(condition2):\n",
    "            //statements\n",
    "         else:\n",
    "           //statements\n",
    "    else:\n",
    "        //statements\n",
    "        \n",
    "### elseif: ---> it checks n number of cased\n",
    "#### syntax:\n",
    "    if(condition1):\n",
    "        //statements\n",
    "    elif(condition2):\n",
    "        //statements\n",
    "    elif(condition3):\n",
    "        //statements\n",
    "        \n",
    "    "
   ]
  },
  {
   "cell_type": "code",
   "execution_count": 13,
   "id": "8238e760",
   "metadata": {},
   "outputs": [
    {
     "name": "stdout",
     "output_type": "stream",
     "text": [
      "20 is big\n"
     ]
    }
   ],
   "source": [
    "# biggest of two numbeers\n",
    "a=10\n",
    "b=20\n",
    "if(a>b):\n",
    "    print(\"{} is big\".format(a))\n",
    "else:\n",
    "    print(\"{} is big\".format(b))"
   ]
  },
  {
   "cell_type": "code",
   "execution_count": 14,
   "id": "896a5f8b",
   "metadata": {},
   "outputs": [
    {
     "name": "stdout",
     "output_type": "stream",
     "text": [
      "30\n",
      "49\n",
      "49 is big\n"
     ]
    }
   ],
   "source": [
    "a=int(input())\n",
    "b=int(input())\n",
    "if(a>b):\n",
    "    print(\"{} is big\".format(a))\n",
    "else:\n",
    "    print(\"{} is big\".format(b))"
   ]
  },
  {
   "cell_type": "code",
   "execution_count": 15,
   "id": "c4c14706",
   "metadata": {},
   "outputs": [
    {
     "name": "stdout",
     "output_type": "stream",
     "text": [
      "eligible for vote\n"
     ]
    }
   ],
   "source": [
    "# eligible for voting\n",
    "a=18;\n",
    "if(a>=18):\n",
    "    print(\"eligible for vote\")\n",
    "else:\n",
    "    print(\"not eligible to vote\")"
   ]
  },
  {
   "cell_type": "code",
   "execution_count": 16,
   "id": "e323acdc",
   "metadata": {},
   "outputs": [
    {
     "name": "stdout",
     "output_type": "stream",
     "text": [
      "34\n",
      "eligible for vote\n"
     ]
    }
   ],
   "source": [
    "# eligible for voting\n",
    "a=int(input());\n",
    "if(a>=18):\n",
    "    print(\"eligible for vote\")\n",
    "else:\n",
    "    print(\"not eligible to vote\")"
   ]
  },
  {
   "cell_type": "code",
   "execution_count": 19,
   "id": "2f59f2d0",
   "metadata": {},
   "outputs": [
    {
     "name": "stdout",
     "output_type": "stream",
     "text": [
      "20\n",
      "30\n",
      "50\n",
      "50\n"
     ]
    }
   ],
   "source": [
    "# biggest of three numbers\n",
    "a=int(input())\n",
    "b=int(input())\n",
    "c=int(input())\n",
    "if(a>b):\n",
    "    if(a>c):\n",
    "        print(a)\n",
    "    else:\n",
    "        print(c)\n",
    "else:\n",
    "    if(b>c):\n",
    "        print(b)\n",
    "    else:\n",
    "        print(c)"
   ]
  },
  {
   "cell_type": "code",
   "execution_count": null,
   "id": "d55de46f",
   "metadata": {},
   "outputs": [],
   "source": [
    "# even or odd\n",
    "a=int(input())\n",
    "if(a%2==0):\n",
    "    print(\"number is even\")\n",
    "else:\n",
    "    pr\n",
    "    "
   ]
  },
  {
   "cell_type": "code",
   "execution_count": null,
   "id": "1041a2f3",
   "metadata": {},
   "outputs": [],
   "source": []
  },
  {
   "cell_type": "code",
   "execution_count": 23,
   "id": "7fc52be5",
   "metadata": {},
   "outputs": [
    {
     "name": "stdout",
     "output_type": "stream",
     "text": [
      "enter the number to check\n",
      "24\n",
      "enter the range\n",
      "10\n",
      "100\n",
      "number lies in the given range\n"
     ]
    }
   ],
   "source": [
    "# check the given number is in given range or not\n",
    "\n",
    "print(\"enter the number to check\")\n",
    "a= int(input())\n",
    "print(\"enter the range\")\n",
    "b= int(input())\n",
    "c= int(input())\n",
    "\n",
    "if((a>=b) and (a<=c)):\n",
    "    print(\"number lies in the given range\")\n",
    "else:\n",
    "    print(\"number doesnt lie in the given range\")\n"
   ]
  },
  {
   "cell_type": "code",
   "execution_count": 27,
   "id": "428aef15",
   "metadata": {},
   "outputs": [
    {
     "name": "stdout",
     "output_type": "stream",
     "text": [
      "Enter the string\n",
      "324\n",
      "Enter the number\n",
      "324\n",
      "the given string is equal to the number\n"
     ]
    }
   ],
   "source": [
    "#check if a given string is equal to number or not\n",
    "print(\"Enter the string\")\n",
    "a= str(input())\n",
    "print(\"Enter the number\")\n",
    "b= int(input())\n",
    "\n",
    "if(int(a)==b):\n",
    "    print(\"the given string is equal to the number\")\n",
    "else:\n",
    "    print(\"the given is string is not equal to the number\")"
   ]
  },
  {
   "cell_type": "code",
   "execution_count": null,
   "id": "bfdee05b",
   "metadata": {},
   "outputs": [],
   "source": []
  }
 ],
 "metadata": {
  "kernelspec": {
   "display_name": "Python 3",
   "language": "python",
   "name": "python3"
  },
  "language_info": {
   "codemirror_mode": {
    "name": "ipython",
    "version": 3
   },
   "file_extension": ".py",
   "mimetype": "text/x-python",
   "name": "python",
   "nbconvert_exporter": "python",
   "pygments_lexer": "ipython3",
   "version": "3.8.8"
  }
 },
 "nbformat": 4,
 "nbformat_minor": 5
}
