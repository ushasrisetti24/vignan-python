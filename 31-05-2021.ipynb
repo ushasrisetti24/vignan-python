{
 "cells": [
  {
   "cell_type": "code",
   "execution_count": null,
   "id": "35a50145",
   "metadata": {},
   "outputs": [],
   "source": []
  },
  {
   "cell_type": "code",
   "execution_count": null,
   "id": "b4caf782",
   "metadata": {},
   "outputs": [],
   "source": []
  },
  {
   "cell_type": "code",
   "execution_count": null,
   "id": "6b4db028",
   "metadata": {},
   "outputs": [],
   "source": []
  },
  {
   "cell_type": "code",
   "execution_count": null,
   "id": "39efc94c",
   "metadata": {},
   "outputs": [],
   "source": []
  },
  {
   "cell_type": "code",
   "execution_count": null,
   "id": "de72c12b",
   "metadata": {},
   "outputs": [],
   "source": []
  },
  {
   "cell_type": "code",
   "execution_count": null,
   "id": "552f9e25",
   "metadata": {},
   "outputs": [],
   "source": []
  },
  {
   "cell_type": "code",
   "execution_count": null,
   "id": "cd7b78f0",
   "metadata": {},
   "outputs": [],
   "source": []
  },
  {
   "cell_type": "code",
   "execution_count": null,
   "id": "b506995d",
   "metadata": {},
   "outputs": [],
   "source": []
  },
  {
   "cell_type": "code",
   "execution_count": 2,
   "id": "234e611c",
   "metadata": {},
   "outputs": [
    {
     "name": "stdout",
     "output_type": "stream",
     "text": [
      "Good&morning\n"
     ]
    }
   ],
   "source": [
    "sl1= \"Good morning\"\n",
    "sl2= sl1.split()   #splits the words in sl2\n",
    "sl3= \"&\".join(sl2)   #splitted words are joined using & by join\n",
    "print(sl3)"
   ]
  },
  {
   "cell_type": "code",
   "execution_count": 3,
   "id": "f829d68f",
   "metadata": {
    "scrolled": false
   },
   "outputs": [
    {
     "name": "stdout",
     "output_type": "stream",
     "text": [
      "Vignan collEgE of EnginEEring for womEn\n"
     ]
    }
   ],
   "source": [
    "s1= \"Vignan college of engineering for women\"\n",
    "s2= s1.replace('e',\"E\")  #1st parameter - letter to be replaced , 2nd paramater-letter used to replace \n",
    "print(s2)"
   ]
  },
  {
   "cell_type": "code",
   "execution_count": 10,
   "id": "40f9252f",
   "metadata": {},
   "outputs": [
    {
     "name": "stdout",
     "output_type": "stream",
     "text": [
      "enter the string  ses\n",
      "string is palindrome\n"
     ]
    }
   ],
   "source": [
    "# palindrome series\n",
    "str= input(\"enter the string  \" )  #input without datatype is defaulted to string\n",
    "str2= str[::-1]\n",
    "\n",
    "if(str2==str):\n",
    "    print(\"string is palindrome\")\n",
    "else:\n",
    "    print(\"String is not palindrome\")"
   ]
  },
  {
   "cell_type": "code",
   "execution_count": 19,
   "id": "caf1eb1c",
   "metadata": {},
   "outputs": [
    {
     "name": "stdout",
     "output_type": "stream",
     "text": [
      "Even numbers:   4864848\n",
      "Odd numbers:    7577\n",
      "Characters:     jghtyyhgutnbvjrnggjbhugbHDSERWJUYHGT\n"
     ]
    }
   ],
   "source": [
    "str= \"jgh487t6y4587yhgutnbvjrnggjbh487ugbHDSERWJUYHGT\"\n",
    "\n",
    "a=\" \"\n",
    "odd=\" \"\n",
    "even= \" \"\n",
    "\n",
    "for i in str:\n",
    "    if (i.isalpha()):\n",
    "        a+=i\n",
    "    elif(int(i)%2==0):\n",
    "        even+=i\n",
    "    else:\n",
    "        odd+=i\n",
    "\n",
    "          \n",
    "\n",
    "print(\"Even numbers: \",even)\n",
    "print(\"Odd numbers:  \",odd)\n",
    "print(\"Characters:   \", a)"
   ]
  },
  {
   "cell_type": "code",
   "execution_count": null,
   "id": "336581ad",
   "metadata": {},
   "outputs": [],
   "source": []
  }
 ],
 "metadata": {
  "kernelspec": {
   "display_name": "Python 3",
   "language": "python",
   "name": "python3"
  },
  "language_info": {
   "codemirror_mode": {
    "name": "ipython",
    "version": 3
   },
   "file_extension": ".py",
   "mimetype": "text/x-python",
   "name": "python",
   "nbconvert_exporter": "python",
   "pygments_lexer": "ipython3",
   "version": "3.8.8"
  }
 },
 "nbformat": 4,
 "nbformat_minor": 5
}
