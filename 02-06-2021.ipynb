{
 "cells": [
  {
   "cell_type": "code",
   "execution_count": 23,
   "id": "58e4ce23",
   "metadata": {},
   "outputs": [
    {
     "name": "stdout",
     "output_type": "stream",
     "text": [
      "[2, 5, 4, 'surya', True, 'surya']\n"
     ]
    }
   ],
   "source": [
    "li=[2,5,4,\"surya\",True]\n",
    "li.append(\"surya\")\n",
    "print(li)"
   ]
  },
  {
   "cell_type": "code",
   "execution_count": 5,
   "id": "3485ad09",
   "metadata": {},
   "outputs": [
    {
     "name": "stdout",
     "output_type": "stream",
     "text": [
      "[2, 5, 'usha', 4, 'vedha', True]\n"
     ]
    }
   ],
   "source": [
    "li=[2,5,4,\"vedha\",True]\n",
    "li.insert(2, \"usha\") #insert the given string after the given position from start\n",
    "print(li)\n"
   ]
  },
  {
   "cell_type": "code",
   "execution_count": 8,
   "id": "94a72695",
   "metadata": {},
   "outputs": [
    {
     "name": "stdout",
     "output_type": "stream",
     "text": [
      "[2, 4, 4, 5, 5, 7, 9]\n"
     ]
    }
   ],
   "source": [
    "li=[2,5,4,9,7,5,4]\n",
    "li.sort()  #arranging in ascending order\n",
    "print(li)\n"
   ]
  },
  {
   "cell_type": "code",
   "execution_count": 10,
   "id": "13a9e6ed",
   "metadata": {},
   "outputs": [
    {
     "data": {
      "text/plain": [
       "[2, 5, 4, 9, 7, 5]"
      ]
     },
     "execution_count": 10,
     "metadata": {},
     "output_type": "execute_result"
    }
   ],
   "source": [
    "li=[2,5,4,9,7,5,4]\n",
    "li.pop()  #removes the last element of the given list\n",
    "li"
   ]
  },
  {
   "cell_type": "code",
   "execution_count": 12,
   "id": "ab2a2a8e",
   "metadata": {},
   "outputs": [
    {
     "data": {
      "text/plain": [
       "[2, 4, 9, 7, 5, 4]"
      ]
     },
     "execution_count": 12,
     "metadata": {},
     "output_type": "execute_result"
    }
   ],
   "source": [
    "li=[2,5,4,9,7,5,4]\n",
    "li.remove(5)   #if two numbers are present of given number the 1st index is removed\n",
    "li"
   ]
  },
  {
   "cell_type": "code",
   "execution_count": 13,
   "id": "652770d4",
   "metadata": {},
   "outputs": [
    {
     "data": {
      "text/plain": [
       "[4, 5, 7, 9, 4, 5, 2]"
      ]
     },
     "execution_count": 13,
     "metadata": {},
     "output_type": "execute_result"
    }
   ],
   "source": [
    "li=[2,5,4,9,7,5,4]\n",
    "li.reverse()  #reverses the list\n",
    "li"
   ]
  },
  {
   "cell_type": "code",
   "execution_count": 19,
   "id": "d60c95b4",
   "metadata": {},
   "outputs": [
    {
     "name": "stdout",
     "output_type": "stream",
     "text": [
      "2\n",
      "5\n",
      "4\n",
      "9\n",
      "[7, 5, 4]\n",
      "7\n",
      "5\n",
      "4\n",
      "[7, 5]\n",
      "1\n",
      "1\n"
     ]
    }
   ],
   "source": [
    "li=[2,5,4,9,[7,5,4]]\n",
    "print(li[0])\n",
    "print(li[1])\n",
    "print(li[2])\n",
    "print(li[3])\n",
    "print(li[4])\n",
    "print(li[4][0])\n",
    "print(li[4][1])\n",
    "print(li[4][2])\n",
    "print(li[4][0:2])\n",
    "print(li.count(5))\n",
    "print(li.index(5))  #counts the index of the 1st element of the duplicate valeu"
   ]
  },
  {
   "cell_type": "code",
   "execution_count": 20,
   "id": "dd3a9899",
   "metadata": {},
   "outputs": [
    {
     "data": {
      "text/plain": [
       "[2, 5, 4, 9, [7, 5, 4], 1]"
      ]
     },
     "execution_count": 20,
     "metadata": {},
     "output_type": "execute_result"
    }
   ],
   "source": [
    "li=[2,5,4,9,[7,5,4]]\n",
    "li.append(1)\n",
    "li"
   ]
  },
  {
   "cell_type": "code",
   "execution_count": 22,
   "id": "28d21d43",
   "metadata": {},
   "outputs": [
    {
     "data": {
      "text/plain": [
       "[34, 35]"
      ]
     },
     "execution_count": 22,
     "metadata": {},
     "output_type": "execute_result"
    }
   ],
   "source": [
    "l3=[34,35]\n",
    "l2=l3.copy() # copying data\n",
    "l2"
   ]
  },
  {
   "cell_type": "code",
   "execution_count": 24,
   "id": "b2abced1",
   "metadata": {},
   "outputs": [
    {
     "name": "stdout",
     "output_type": "stream",
     "text": [
      "['__add__', '__class__', '__contains__', '__delattr__', '__delitem__', '__dir__', '__doc__', '__eq__', '__format__', '__ge__', '__getattribute__', '__getitem__', '__gt__', '__hash__', '__iadd__', '__imul__', '__init__', '__init_subclass__', '__iter__', '__le__', '__len__', '__lt__', '__mul__', '__ne__', '__new__', '__reduce__', '__reduce_ex__', '__repr__', '__reversed__', '__rmul__', '__setattr__', '__setitem__', '__sizeof__', '__str__', '__subclasshook__', 'append', 'clear', 'copy', 'count', 'extend', 'index', 'insert', 'pop', 'remove', 'reverse', 'sort']\n"
     ]
    }
   ],
   "source": [
    "print(dir(list))"
   ]
  },
  {
   "cell_type": "code",
   "execution_count": 25,
   "id": "aa05701d",
   "metadata": {},
   "outputs": [
    {
     "data": {
      "text/plain": [
       "[2, 3, 4, 5, 6, 7, 4, 6, 87, 3]"
      ]
     },
     "execution_count": 25,
     "metadata": {},
     "output_type": "execute_result"
    }
   ],
   "source": [
    "li=[2,3,4,5,6,7]\n",
    "l2=[4,6,87,3]\n",
    "li.extend(l2)   #all the elements are added to l2\n",
    "li"
   ]
  },
  {
   "cell_type": "code",
   "execution_count": 30,
   "id": "bf2364ec",
   "metadata": {},
   "outputs": [
    {
     "name": "stdout",
     "output_type": "stream",
     "text": [
      "7\n",
      "2\n",
      "6\n"
     ]
    }
   ],
   "source": [
    "li=[2,3,4,5,6,7]\n",
    "print(max(li))\n",
    "print(min(li))\n",
    "print(len(li))"
   ]
  },
  {
   "cell_type": "code",
   "execution_count": 32,
   "id": "ff1308f1",
   "metadata": {},
   "outputs": [
    {
     "name": "stdout",
     "output_type": "stream",
     "text": [
      "27\n",
      "average= 4.5\n"
     ]
    }
   ],
   "source": [
    "li=[2,3,4,5,6,7]\n",
    "sum=0\n",
    "for i in li:\n",
    "    sum+=i\n",
    "print(sum)  \n",
    "print(\"average= {}\".format(sum/len(li)))"
   ]
  },
  {
   "cell_type": "code",
   "execution_count": 45,
   "id": "c19c7ce8",
   "metadata": {},
   "outputs": [
    {
     "ename": "ZeroDivisionError",
     "evalue": "division by zero",
     "output_type": "error",
     "traceback": [
      "\u001b[1;31m---------------------------------------------------------------------------\u001b[0m",
      "\u001b[1;31mZeroDivisionError\u001b[0m                         Traceback (most recent call last)",
      "\u001b[1;32m<ipython-input-45-1389b9303fc4>\u001b[0m in \u001b[0;36m<module>\u001b[1;34m\u001b[0m\n\u001b[0;32m      7\u001b[0m         \u001b[0msum\u001b[0m\u001b[1;33m+=\u001b[0m\u001b[1;36m1\u001b[0m\u001b[1;33m\u001b[0m\u001b[1;33m\u001b[0m\u001b[0m\n\u001b[0;32m      8\u001b[0m         \u001b[0mc\u001b[0m\u001b[1;33m=\u001b[0m\u001b[0mc\u001b[0m\u001b[1;33m+\u001b[0m\u001b[1;36m1\u001b[0m\u001b[1;33m\u001b[0m\u001b[1;33m\u001b[0m\u001b[0m\n\u001b[1;32m----> 9\u001b[1;33m \u001b[0mprint\u001b[0m\u001b[1;33m(\u001b[0m\u001b[0msum\u001b[0m\u001b[1;33m/\u001b[0m\u001b[0mc\u001b[0m\u001b[1;33m)\u001b[0m\u001b[1;33m\u001b[0m\u001b[1;33m\u001b[0m\u001b[0m\n\u001b[0m",
      "\u001b[1;31mZeroDivisionError\u001b[0m: division by zero"
     ]
    }
   ],
   "source": [
    "s=[1,2,3,5,'a',\"surya\"]   # find the sum of paritcular list\n",
    "s=str(s)\n",
    "type(s)\n",
    "sum=c=0\n",
    "for i in s:\n",
    "    if type(i)==int or type(i)==float:\n",
    "        sum+=1\n",
    "        c=c+1\n",
    "print(sum/c)        "
   ]
  },
  {
   "cell_type": "code",
   "execution_count": 53,
   "id": "9440fecd",
   "metadata": {},
   "outputs": [
    {
     "name": "stdout",
     "output_type": "stream",
     "text": [
      "9\n",
      "8\n"
     ]
    }
   ],
   "source": [
    "li=[2,3,4,5,6,7,4,4,5,6,8,8,9,1,2,2,3,3]\n",
    "li.sort()\n",
    "num= max(li)\n",
    "print(num)\n",
    "\n",
    "for i in li[::-1]:\n",
    "    if(i==num):\n",
    "        continue\n",
    "    else:\n",
    "        print(i)\n",
    "        break"
   ]
  },
  {
   "cell_type": "code",
   "execution_count": 49,
   "id": "6d597400",
   "metadata": {},
   "outputs": [
    {
     "name": "stdout",
     "output_type": "stream",
     "text": [
      "]\n"
     ]
    }
   ],
   "source": [
    "#to find nth largest\n",
    "li=[2,3,4,5,6,7,4,4,5,6,8,8,9,1,2,2,3,3]\n",
    "li.sort()\n",
    "li2= []\n",
    "\n",
    "for i in li:\n",
    "    if i not in nli:\n",
    "        nli.append(i)\n",
    "print(nli)\n",
    "print(nli[-4])\n",
    "    "
   ]
  },
  {
   "cell_type": "code",
   "execution_count": 65,
   "id": "607d7a1b",
   "metadata": {},
   "outputs": [
    {
     "name": "stdout",
     "output_type": "stream",
     "text": [
      "[1, 2, 3, 4, 5, 6, 7, 8, 9]\n"
     ]
    }
   ],
   "source": [
    "#to convert string to list\n",
    "s= \"1 2 3 4 5 6 7 8 9\"\n",
    "li=s.split()\n",
    "nlist=[]\n",
    "for i in li:\n",
    "    nlist.append(int(i))\n",
    "print(nlist)    "
   ]
  },
  {
   "cell_type": "code",
   "execution_count": 66,
   "id": "6a211406",
   "metadata": {},
   "outputs": [
    {
     "name": "stdout",
     "output_type": "stream",
     "text": [
      "['__add__', '__class__', '__contains__', '__delattr__', '__dir__', '__doc__', '__eq__', '__format__', '__ge__', '__getattribute__', '__getitem__', '__getnewargs__', '__gt__', '__hash__', '__init__', '__init_subclass__', '__iter__', '__le__', '__len__', '__lt__', '__mul__', '__ne__', '__new__', '__reduce__', '__reduce_ex__', '__repr__', '__rmul__', '__setattr__', '__sizeof__', '__str__', '__subclasshook__', 'count', 'index']\n"
     ]
    }
   ],
   "source": [
    "print(dir(tuple))"
   ]
  },
  {
   "cell_type": "code",
   "execution_count": 67,
   "id": "db82fef1",
   "metadata": {},
   "outputs": [
    {
     "name": "stdout",
     "output_type": "stream",
     "text": [
      "['__and__', '__class__', '__contains__', '__delattr__', '__dir__', '__doc__', '__eq__', '__format__', '__ge__', '__getattribute__', '__gt__', '__hash__', '__iand__', '__init__', '__init_subclass__', '__ior__', '__isub__', '__iter__', '__ixor__', '__le__', '__len__', '__lt__', '__ne__', '__new__', '__or__', '__rand__', '__reduce__', '__reduce_ex__', '__repr__', '__ror__', '__rsub__', '__rxor__', '__setattr__', '__sizeof__', '__str__', '__sub__', '__subclasshook__', '__xor__', 'add', 'clear', 'copy', 'difference', 'difference_update', 'discard', 'intersection', 'intersection_update', 'isdisjoint', 'issubset', 'issuperset', 'pop', 'remove', 'symmetric_difference', 'symmetric_difference_update', 'union', 'update']\n"
     ]
    }
   ],
   "source": [
    "print(dir(set))"
   ]
  },
  {
   "cell_type": "code",
   "execution_count": 68,
   "id": "5dbb97e7",
   "metadata": {},
   "outputs": [
    {
     "name": "stdout",
     "output_type": "stream",
     "text": [
      "['__class__', '__contains__', '__delattr__', '__delitem__', '__dir__', '__doc__', '__eq__', '__format__', '__ge__', '__getattribute__', '__getitem__', '__gt__', '__hash__', '__init__', '__init_subclass__', '__iter__', '__le__', '__len__', '__lt__', '__ne__', '__new__', '__reduce__', '__reduce_ex__', '__repr__', '__reversed__', '__setattr__', '__setitem__', '__sizeof__', '__str__', '__subclasshook__', 'clear', 'copy', 'fromkeys', 'get', 'items', 'keys', 'pop', 'popitem', 'setdefault', 'update', 'values']\n"
     ]
    }
   ],
   "source": [
    "print(dir(dict))"
   ]
  },
  {
   "cell_type": "code",
   "execution_count": null,
   "id": "48212fc4",
   "metadata": {},
   "outputs": [],
   "source": []
  }
 ],
 "metadata": {
  "kernelspec": {
   "display_name": "Python 3",
   "language": "python",
   "name": "python3"
  },
  "language_info": {
   "codemirror_mode": {
    "name": "ipython",
    "version": 3
   },
   "file_extension": ".py",
   "mimetype": "text/x-python",
   "name": "python",
   "nbconvert_exporter": "python",
   "pygments_lexer": "ipython3",
   "version": "3.8.8"
  }
 },
 "nbformat": 4,
 "nbformat_minor": 5
}
