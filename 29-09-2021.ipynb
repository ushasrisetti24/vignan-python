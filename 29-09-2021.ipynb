{
 "cells": [
  {
   "cell_type": "code",
   "execution_count": null,
   "id": "c9516968",
   "metadata": {},
   "outputs": [],
   "source": [
    "# factorial using for loop\n",
    "\n",
    "num=int(input(\"enter the number \"))\n",
    "fact=1;\n",
    "for i in range(1,num+1):\n",
    "    fact=fact*i\n",
    "print(fact)    \n"
   ]
  },
  {
   "cell_type": "code",
   "execution_count": null,
   "id": "9da0a1ea",
   "metadata": {},
   "outputs": [],
   "source": [
    "\n",
    "x=int(input(\"Enter the number\"))\n",
    "for i in range(1,6):\n",
    "    for k in range(1,i+1):\n",
    "        print(i, end=\"\")\n",
    "    print(\"\\n\")   \n"
   ]
  },
  {
   "cell_type": "code",
   "execution_count": null,
   "id": "fa3e0cbf",
   "metadata": {},
   "outputs": [],
   "source": [
    "x=int(input(\"Enter the number\"))\n",
    "for i in range(1,6):\n",
    "    for k in range(1,i+1):\n",
    "        print(k, end=\"\")\n",
    "    print(\"\\n\")   \n"
   ]
  },
  {
   "cell_type": "code",
   "execution_count": 45,
   "id": "2a4d8f20",
   "metadata": {},
   "outputs": [
    {
     "name": "stdout",
     "output_type": "stream",
     "text": [
      "Enter the number370\n",
      "the given number is Armstrong number\n"
     ]
    }
   ],
   "source": [
    "# to check whether a number is an armstrong number\n",
    "num= int(input(\"Enter the number\"))\n",
    "sum=0 \n",
    "check=num\n",
    "\n",
    "while(num>0):\n",
    "    rem= num%10\n",
    "    sum= sum + rem**3\n",
    "    num= num//10\n",
    "    \n",
    "if(check==sum):\n",
    "    print(\"the given number is Armstrong number\")\n",
    "else:\n",
    "    print(\"the given number is not an Armstrong number\")"
   ]
  },
  {
   "cell_type": "code",
   "execution_count": null,
   "id": "733dbfcc",
   "metadata": {},
   "outputs": [],
   "source": [
    "import keyword\n",
    "print(keyword.kwlist)"
   ]
  },
  {
   "cell_type": "code",
   "execution_count": null,
   "id": "c953f520",
   "metadata": {},
   "outputs": [],
   "source": [
    "# chr()\n",
    "# ord()\n",
    "\n",
    "print(ord('A'))\n",
    "print(ord('Z'))\n",
    "print(ord('a'))\n",
    "print(ord('z'))"
   ]
  },
  {
   "cell_type": "code",
   "execution_count": null,
   "id": "a05ba80e",
   "metadata": {},
   "outputs": [],
   "source": [
    "# check whether a number is prime number\n",
    "# approach 1\n",
    " \n",
    "n=int(input(\"Enter the number \"))\n",
    "if(n>0):\n",
    "    for i in range(2,n+1):\n",
    "        if(n%i==0):\n",
    "            print(\"{} is not a prime number\".format(n))\n",
    "            break\n",
    "        else:\n",
    "            print(\"{} is a prime number\".format(n))\n",
    "            break"
   ]
  },
  {
   "cell_type": "code",
   "execution_count": null,
   "id": "54bc9d62",
   "metadata": {},
   "outputs": [],
   "source": [
    "# check whether a number is prime number\n",
    "# approach 1\n",
    " \n",
    "n=int(input(\"Enter the number \"))\n",
    "flag= False\n",
    "if(n>0):\n",
    "    for i in range(2,n):\n",
    "        if(n%i==0):\n",
    "            flag== True\n",
    "            break\n",
    "\n",
    "if(flag):\n",
    "    print(\"{} is not a prime number\".format(n))\n",
    "else:\n",
    "     print(\"{} is a prime number\".format(n))"
   ]
  },
  {
   "cell_type": "code",
   "execution_count": 4,
   "id": "72659f5f",
   "metadata": {},
   "outputs": [
    {
     "name": "stdout",
     "output_type": "stream",
     "text": [
      "Enter the number456\n",
      "Reverse of given number = 654\n"
     ]
    }
   ],
   "source": [
    "#reverse of a number\n",
    "\n",
    "x=int(input(\"Enter the number\"))\n",
    "rev=0\n",
    "while (x>0):\n",
    "    rem=x%10\n",
    "    rev= rev*10 + rem\n",
    "    x= x//10\n",
    "    \n",
    "print(\"Reverse of given number = {}\" .format(rev))\n"
   ]
  },
  {
   "cell_type": "markdown",
   "id": "21502020",
   "metadata": {},
   "source": [
    "###### "
   ]
  },
  {
   "cell_type": "markdown",
   "id": "b2b9fef7",
   "metadata": {},
   "source": [
    "## Nested loop"
   ]
  },
  {
   "cell_type": "code",
   "execution_count": 7,
   "id": "1f51e29c",
   "metadata": {},
   "outputs": [
    {
     "name": "stdout",
     "output_type": "stream",
     "text": [
      "0 1 2 3 4 5 "
     ]
    }
   ],
   "source": [
    "for i in range(6):\n",
    "    print(i, end=\" \")"
   ]
  },
  {
   "cell_type": "code",
   "execution_count": 10,
   "id": "0adb3838",
   "metadata": {},
   "outputs": [
    {
     "name": "stdout",
     "output_type": "stream",
     "text": [
      "enter the number5\n",
      "1 \n",
      "\n",
      "1 2 \n",
      "\n",
      "1 2 3 \n",
      "\n",
      "1 2 3 4 \n",
      "\n",
      "1 2 3 4 5 \n",
      "\n"
     ]
    }
   ],
   "source": [
    "x= int(input(\"enter the number\"))\n",
    "for i in range(1,x+1):\n",
    "    for j in range(1,i+1):\n",
    "        print(j, end=\" \")\n",
    "    print(\"\\n\")    "
   ]
  },
  {
   "cell_type": "code",
   "execution_count": 11,
   "id": "7561784b",
   "metadata": {},
   "outputs": [
    {
     "name": "stdout",
     "output_type": "stream",
     "text": [
      "enter the number5\n",
      "1 \n",
      "\n",
      "2 2 \n",
      "\n",
      "3 3 3 \n",
      "\n",
      "4 4 4 4 \n",
      "\n",
      "5 5 5 5 5 \n",
      "\n"
     ]
    }
   ],
   "source": [
    "x= int(input(\"enter the number\"))\n",
    "for i in range(1,x+1):\n",
    "    for j in range(1,i+1):\n",
    "        print(i, end=\" \")\n",
    "    print(\"\\n\")    "
   ]
  },
  {
   "cell_type": "code",
   "execution_count": 13,
   "id": "12ad6007",
   "metadata": {},
   "outputs": [
    {
     "name": "stdout",
     "output_type": "stream",
     "text": [
      "A B C D E F G H I J K L M N O P Q R S T U V W X Y Z "
     ]
    }
   ],
   "source": [
    "for i in range(65,91,1):\n",
    "    print(chr(i), end=\" \")"
   ]
  },
  {
   "cell_type": "code",
   "execution_count": 15,
   "id": "6a327253",
   "metadata": {},
   "outputs": [
    {
     "name": "stdout",
     "output_type": "stream",
     "text": [
      "a b c d e f g h i j k l m n o p q r s t u v w x y z "
     ]
    }
   ],
   "source": [
    "for i in range(97,123,1):\n",
    "    print(chr(i), end=\" \")"
   ]
  },
  {
   "cell_type": "code",
   "execution_count": 19,
   "id": "05e6e737",
   "metadata": {},
   "outputs": [
    {
     "name": "stdout",
     "output_type": "stream",
     "text": [
      "Z Y X W V U T S R Q P O N M L K J I H G F E D C B A "
     ]
    }
   ],
   "source": [
    "for i in range(90,64,-1):\n",
    "    print(chr(i), end=\" \")"
   ]
  },
  {
   "cell_type": "code",
   "execution_count": 20,
   "id": "a49d6f62",
   "metadata": {},
   "outputs": [
    {
     "name": "stdout",
     "output_type": "stream",
     "text": [
      "z y x w v u t s r q p o n m l k j i h g f e d c b a "
     ]
    }
   ],
   "source": [
    "for i in range(122,96,-1):\n",
    "    print(chr(i), end=\" \")"
   ]
  },
  {
   "cell_type": "code",
   "execution_count": 24,
   "id": "08ded259",
   "metadata": {},
   "outputs": [
    {
     "name": "stdout",
     "output_type": "stream",
     "text": [
      "A \n",
      "\n",
      "A B \n",
      "\n",
      "A B C \n",
      "\n",
      "A B C D \n",
      "\n",
      "A B C D E \n",
      "\n"
     ]
    }
   ],
   "source": [
    "for i in range(65,70):\n",
    "    for j in range(65,i+1):\n",
    "        print(chr(j), end=\" \")\n",
    "    print(\"\\n\")    "
   ]
  },
  {
   "cell_type": "code",
   "execution_count": 27,
   "id": "518dc761",
   "metadata": {},
   "outputs": [
    {
     "name": "stdout",
     "output_type": "stream",
     "text": [
      "A \n",
      "\n",
      "B B \n",
      "\n",
      "C C C \n",
      "\n",
      "D D D D \n",
      "\n",
      "E E E E E \n",
      "\n"
     ]
    }
   ],
   "source": [
    "for i in range(65,70):\n",
    "    for j in range(65,i+1):\n",
    "        print(chr(i), end=\" \")\n",
    "    print(\"\\n\")    "
   ]
  },
  {
   "cell_type": "code",
   "execution_count": 30,
   "id": "a6efa183",
   "metadata": {},
   "outputs": [
    {
     "name": "stdout",
     "output_type": "stream",
     "text": [
      "A B C D E F \n",
      "A B C D E \n",
      "A B C D \n",
      "A B C \n",
      "A B \n",
      "A \n"
     ]
    }
   ],
   "source": [
    "for i in range(70,64,-1):\n",
    "    for j in range(65,i+1):\n",
    "        print(chr(j), end=\" \")\n",
    "    print()    "
   ]
  },
  {
   "cell_type": "code",
   "execution_count": 31,
   "id": "5af8e615",
   "metadata": {},
   "outputs": [
    {
     "name": "stdout",
     "output_type": "stream",
     "text": [
      "F F F F F F \n",
      "E E E E E \n",
      "D D D D \n",
      "C C C \n",
      "B B \n",
      "A \n"
     ]
    }
   ],
   "source": [
    "for i in range(70,64,-1):\n",
    "    for j in range(65,i+1):\n",
    "        print(chr(i), end=\" \")\n",
    "    print()    "
   ]
  },
  {
   "cell_type": "code",
   "execution_count": 32,
   "id": "a1d2e709",
   "metadata": {},
   "outputs": [
    {
     "name": "stdout",
     "output_type": "stream",
     "text": [
      "e e e e e \n",
      "d d d d \n",
      "c c c \n",
      "b b \n",
      "a \n"
     ]
    }
   ],
   "source": [
    "for i in range(101,96,-1):\n",
    "    for j in range(97,i+1):\n",
    "        print(chr(i), end=\" \")\n",
    "    print()    "
   ]
  },
  {
   "cell_type": "code",
   "execution_count": 33,
   "id": "939f6ce9",
   "metadata": {},
   "outputs": [
    {
     "name": "stdout",
     "output_type": "stream",
     "text": [
      "f f f f f f \n",
      "e e e e e \n",
      "d d d d \n",
      "c c c \n",
      "b b \n",
      "a \n"
     ]
    }
   ],
   "source": [
    "for i in range(102,96,-1):\n",
    "    for j in range(97,i+1):\n",
    "        print(chr(i), end=\" \")\n",
    "    print()    "
   ]
  },
  {
   "cell_type": "code",
   "execution_count": 48,
   "id": "db6427f6",
   "metadata": {},
   "outputs": [
    {
     "name": "stdout",
     "output_type": "stream",
     "text": [
      "HI my name is usha"
     ]
    }
   ],
   "source": [
    "str= \"HI my name is usha\"\n",
    "for i in str:\n",
    "    print(i, end=\"\")\n",
    "\n",
    "  "
   ]
  },
  {
   "cell_type": "code",
   "execution_count": 52,
   "id": "f5b43c98",
   "metadata": {},
   "outputs": [
    {
     "name": "stdout",
     "output_type": "stream",
     "text": [
      "7\n",
      "u\n",
      "i\n",
      "s\n",
      "r\n"
     ]
    }
   ],
   "source": [
    "name=\"ushasri\"\n",
    "print(len(name))\n",
    "print(name[0])\n",
    "print(name[6])\n",
    "print(name[-3])\n",
    "print(name[-2])  # minus sign is used to represent the position of character from the end of the string index starting with 1  "
   ]
  },
  {
   "cell_type": "code",
   "execution_count": 57,
   "id": "c84d3aeb",
   "metadata": {},
   "outputs": [
    {
     "name": "stdout",
     "output_type": "stream",
     "text": [
      "irS ahsU itteS\n",
      " Ush\n",
      " Usha Sri\n",
      "StiUh r\n",
      "iSas te\n"
     ]
    }
   ],
   "source": [
    "str= \"Setti Usha Sri\"\n",
    "print(str[::-1])  #indicates from last position decrement\n",
    "print(str[5:9:])  #1st indicate the position starting from 0 and the 2nd indicates the ernd range excluding the end number\n",
    "print(str[5::])  #starts from the position \n",
    "print(str[::2])\n",
    "print(str[::-2])"
   ]
  },
  {
   "cell_type": "code",
   "execution_count": 58,
   "id": "adf00113",
   "metadata": {},
   "outputs": [
    {
     "name": "stdout",
     "output_type": "stream",
     "text": [
      "['__add__', '__class__', '__contains__', '__delattr__', '__dir__', '__doc__', '__eq__', '__format__', '__ge__', '__getattribute__', '__getitem__', '__getnewargs__', '__gt__', '__hash__', '__init__', '__init_subclass__', '__iter__', '__le__', '__len__', '__lt__', '__mod__', '__mul__', '__ne__', '__new__', '__reduce__', '__reduce_ex__', '__repr__', '__rmod__', '__rmul__', '__setattr__', '__sizeof__', '__str__', '__subclasshook__', 'capitalize', 'casefold', 'center', 'count', 'encode', 'endswith', 'expandtabs', 'find', 'format', 'format_map', 'index', 'isalnum', 'isalpha', 'isascii', 'isdecimal', 'isdigit', 'isidentifier', 'islower', 'isnumeric', 'isprintable', 'isspace', 'istitle', 'isupper', 'join', 'ljust', 'lower', 'lstrip', 'maketrans', 'partition', 'replace', 'rfind', 'rindex', 'rjust', 'rpartition', 'rsplit', 'rstrip', 'split', 'splitlines', 'startswith', 'strip', 'swapcase', 'title', 'translate', 'upper', 'zfill']\n"
     ]
    }
   ],
   "source": [
    "print(dir(str))"
   ]
  },
  {
   "cell_type": "code",
   "execution_count": 60,
   "id": "4d17c92d",
   "metadata": {},
   "outputs": [
    {
     "ename": "NameError",
     "evalue": "name 'vgs' is not defined",
     "output_type": "error",
     "traceback": [
      "\u001b[1;31m---------------------------------------------------------------------------\u001b[0m",
      "\u001b[1;31mNameError\u001b[0m                                 Traceback (most recent call last)",
      "\u001b[1;32m<ipython-input-60-80a68b7f85c8>\u001b[0m in \u001b[0;36m<module>\u001b[1;34m\u001b[0m\n\u001b[1;32m----> 1\u001b[1;33m \u001b[0mprint\u001b[0m\u001b[1;33m(\u001b[0m\u001b[0mdir\u001b[0m\u001b[1;33m(\u001b[0m\u001b[0mvgs\u001b[0m\u001b[1;33m)\u001b[0m\u001b[1;33m)\u001b[0m\u001b[1;33m\u001b[0m\u001b[1;33m\u001b[0m\u001b[0m\n\u001b[0m",
      "\u001b[1;31mNameError\u001b[0m: name 'vgs' is not defined"
     ]
    }
   ],
   "source": [
    "print(dir(vgs))"
   ]
  },
  {
   "cell_type": "code",
   "execution_count": null,
   "id": "81f5b5bc",
   "metadata": {},
   "outputs": [],
   "source": []
  }
 ],
 "metadata": {
  "kernelspec": {
   "display_name": "Python 3",
   "language": "python",
   "name": "python3"
  },
  "language_info": {
   "codemirror_mode": {
    "name": "ipython",
    "version": 3
   },
   "file_extension": ".py",
   "mimetype": "text/x-python",
   "name": "python",
   "nbconvert_exporter": "python",
   "pygments_lexer": "ipython3",
   "version": "3.8.8"
  }
 },
 "nbformat": 4,
 "nbformat_minor": 5
}
