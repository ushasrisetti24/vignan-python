{
 "cells": [
  {
   "cell_type": "code",
   "execution_count": 3,
   "id": "1a6c1bb7",
   "metadata": {},
   "outputs": [
    {
     "name": "stdout",
     "output_type": "stream",
     "text": [
      " 😒\n",
      " 😒😒\n",
      " 😒😒😒\n",
      " 😒😒😒😒\n",
      " 😒😒😒\n",
      " 😒😒\n",
      " 😒\n",
      " \n",
      "\n"
     ]
    }
   ],
   "source": [
    "str= \" \"\n",
    "for i in range(1,10):\n",
    "    if (i<5):\n",
    "        str+=\"😒\"\n",
    "        print(str)\n",
    "    elif (i>4):\n",
    "        str=str[:-1]\n",
    "        print(str)\n",
    "           "
   ]
  },
  {
   "cell_type": "code",
   "execution_count": 6,
   "id": "969c6de6",
   "metadata": {},
   "outputs": [
    {
     "name": "stdout",
     "output_type": "stream",
     "text": [
      "enter the stringhi my name is usha\n",
      "no.of words:  5\n"
     ]
    }
   ],
   "source": [
    "# to find number of words\n",
    "\n",
    "str =input(\"enter the string\")\n",
    "  \n",
    "\n",
    "\n",
    "str1= str.split()\n",
    "count= len(str1)\n",
    "  \n",
    "\n",
    "print(\"no.of words: \",count)\n"
   ]
  },
  {
   "cell_type": "code",
   "execution_count": 7,
   "id": "910b253e",
   "metadata": {},
   "outputs": [
    {
     "name": "stdout",
     "output_type": "stream",
     "text": [
      "Enteer the stringhi my name is usha sri setti\n",
      "6\n"
     ]
    }
   ],
   "source": [
    "#to find the number of words\n",
    "\n",
    "count=0\n",
    "s= input(\"Enteer the string\")\n",
    "for i in s:\n",
    "    if(i==' '):\n",
    "        count+=1\n",
    "print(count)        "
   ]
  },
  {
   "cell_type": "code",
   "execution_count": 17,
   "id": "699ce2df",
   "metadata": {},
   "outputs": [
    {
     "name": "stdout",
     "output_type": "stream",
     "text": [
      "enter the stringa3d4f5\n",
      "aaa\n",
      "dddd\n",
      "fffff\n"
     ]
    }
   ],
   "source": [
    "s= input(\"enter the string\")\n",
    "out= ' '\n",
    "for i in s:\n",
    "    if(i.isalpha()):\n",
    "        ch=i\n",
    "        \n",
    "    else:\n",
    "        dig=i\n",
    "        print(ch* int(dig))\n",
    "    "
   ]
  },
  {
   "cell_type": "code",
   "execution_count": 20,
   "id": "c4c231b6",
   "metadata": {},
   "outputs": [
    {
     "name": "stdout",
     "output_type": "stream",
     "text": [
      "120\n"
     ]
    }
   ],
   "source": [
    "#wihtout arguement without return type\n",
    "\n",
    "def fact():\n",
    "    fact1=1\n",
    "    for i in range(1,6):\n",
    "        fact1= fact1*i\n",
    "    print(fact1)\n",
    "fact()"
   ]
  },
  {
   "cell_type": "code",
   "execution_count": 21,
   "id": "725431f7",
   "metadata": {},
   "outputs": [
    {
     "name": "stdout",
     "output_type": "stream",
     "text": [
      "120\n"
     ]
    }
   ],
   "source": [
    "#with arg and without return\n",
    "def fact(n):\n",
    "    fact1=1\n",
    "    for i in range(1,n+1):\n",
    "        fact1= fact1*i\n",
    "    print(fact1)\n",
    "fact(5)\n"
   ]
  },
  {
   "cell_type": "code",
   "execution_count": 22,
   "id": "d79beaea",
   "metadata": {},
   "outputs": [
    {
     "data": {
      "text/plain": [
       "120"
      ]
     },
     "execution_count": 22,
     "metadata": {},
     "output_type": "execute_result"
    }
   ],
   "source": [
    "#without arg with return\n",
    "def fact():\n",
    "    fact1=1\n",
    "    for i in range(1,6):\n",
    "        fact1= fact1*i\n",
    "    return fact1\n",
    "fact()"
   ]
  },
  {
   "cell_type": "code",
   "execution_count": 23,
   "id": "bddb4d52",
   "metadata": {},
   "outputs": [
    {
     "data": {
      "text/plain": [
       "5040"
      ]
     },
     "execution_count": 23,
     "metadata": {},
     "output_type": "execute_result"
    }
   ],
   "source": [
    "#with arg with return\n",
    "def fact(n):\n",
    "    fact1=1\n",
    "    for i in range(1,n+1):\n",
    "        fact1= fact1*i\n",
    "    return fact1\n",
    "fact(7)"
   ]
  },
  {
   "cell_type": "code",
   "execution_count": 25,
   "id": "42a1d53f",
   "metadata": {},
   "outputs": [
    {
     "name": "stdout",
     "output_type": "stream",
     "text": [
      "my name is usha my role is student\n"
     ]
    }
   ],
   "source": [
    "def dfun(name,role):\n",
    "    print(\"my name is\", name, \"my role is\", role)\n",
    "dfun(\"usha\", \"student\")    \n",
    "    "
   ]
  },
  {
   "cell_type": "code",
   "execution_count": 26,
   "id": "f3e0aa62",
   "metadata": {},
   "outputs": [
    {
     "name": "stdout",
     "output_type": "stream",
     "text": [
      "my name is usha my role is student\n"
     ]
    }
   ],
   "source": [
    "def keyword(name, role):\n",
    "    print(\"my name is\", name, \"my role is\", role)\n",
    "keyword(name=\"usha\", role=\"student\")    "
   ]
  },
  {
   "cell_type": "code",
   "execution_count": 27,
   "id": "4fadd33d",
   "metadata": {},
   "outputs": [
    {
     "name": "stdout",
     "output_type": "stream",
     "text": [
      "usha\n",
      "varshu\n",
      "vedha\n",
      "beebi\n"
     ]
    }
   ],
   "source": [
    "# Arbitary *keywords\n",
    "def keystar(*names):\n",
    "    for i in names:\n",
    "        print(i)\n",
    "keystar(\"usha\",\"varshu\",\"vedha\",\"beebi\")        "
   ]
  },
  {
   "cell_type": "code",
   "execution_count": 30,
   "id": "93da5301",
   "metadata": {},
   "outputs": [
    {
     "name": "stdout",
     "output_type": "stream",
     "text": [
      "vignan dvd\n"
     ]
    }
   ],
   "source": [
    "#Arbitary keywords\n",
    "def keystar(**names):\n",
    "    print(names[\"clg\"],names[\"add\"])\n",
    "keystar(clg=\"vignan\", add=\"dvd\")    "
   ]
  },
  {
   "cell_type": "code",
   "execution_count": 31,
   "id": "9e2b8f9f",
   "metadata": {},
   "outputs": [
    {
     "name": "stdout",
     "output_type": "stream",
     "text": [
      "120\n"
     ]
    }
   ],
   "source": [
    "# recursive function\n",
    "fact=1\n",
    "def factt(n):\n",
    "    if n==1:\n",
    "        return 1\n",
    "    else:\n",
    "        return n*factt(n-1)\n",
    "print(factt(5))"
   ]
  },
  {
   "cell_type": "code",
   "execution_count": null,
   "id": "97f827da",
   "metadata": {},
   "outputs": [],
   "source": []
  }
 ],
 "metadata": {
  "kernelspec": {
   "display_name": "Python 3",
   "language": "python",
   "name": "python3"
  },
  "language_info": {
   "codemirror_mode": {
    "name": "ipython",
    "version": 3
   },
   "file_extension": ".py",
   "mimetype": "text/x-python",
   "name": "python",
   "nbconvert_exporter": "python",
   "pygments_lexer": "ipython3",
   "version": "3.8.8"
  }
 },
 "nbformat": 4,
 "nbformat_minor": 5
}
